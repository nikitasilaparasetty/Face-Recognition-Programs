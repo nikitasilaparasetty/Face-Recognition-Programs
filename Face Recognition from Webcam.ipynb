{
 "cells": [
  {
   "cell_type": "markdown",
   "metadata": {},
   "source": [
    "# Face Recognition from Webcam"
   ]
  },
  {
   "cell_type": "markdown",
   "metadata": {},
   "source": [
    "We will need to import two libraries - OpenCV and System-Specific Parameters and Functions.\n",
    "\n",
    "**OpenCV (cv2)** solves problems that are related to computer vision.\n",
    "\n",
    "**System-Specific Parameters and Functions (sys)** allows access to some variables and functions that the interpreter uses or interacts with."
   ]
  },
  {
   "cell_type": "code",
   "execution_count": null,
   "metadata": {},
   "outputs": [],
   "source": [
    "# Import the 'OpenCV' Module\n",
    "import cv2\n",
    "# Import the 'System-Specific Parameters and Functions' Module\n",
    "import sys"
   ]
  },
  {
   "cell_type": "markdown",
   "metadata": {},
   "source": [
    "In this program, we will be using '**Haar Cascade**'. This is an algorithm that is used to detect objects in an image or video."
   ]
  },
  {
   "cell_type": "code",
   "execution_count": null,
   "metadata": {},
   "outputs": [],
   "source": [
    "# Define a path for Haar Cascade\n",
    "cascPath = sys.argv[1]\n",
    "\n",
    "# Import the Haar Cascade Classifier into the program\n",
    "faceCascade = cv2.CascadeClassifier('haarcascade_frontalface_default.xml')"
   ]
  },
  {
   "cell_type": "markdown",
   "metadata": {},
   "source": [
    "Now we will begin with the main program. Each step is explained for ease of understanding. "
   ]
  },
  {
   "cell_type": "code",
   "execution_count": null,
   "metadata": {},
   "outputs": [],
   "source": [
    "# Name the camera window\n",
    "cv2.namedWindow(\"cam\")\n",
    "\n",
    "# Define a variable to execute the function that captures video. \n",
    "# We use 0 for internal camera, and 0 or -1 for external camera.\n",
    "vc = cv2.VideoCapture(0) \n",
    "\n",
    "\n",
    "# Open a 'while' loop.\n",
    "while True:\n",
    "    # The '.read()' function reads one frame of the video.\n",
    "    # Here, we read one frame on a loop and we get a return code, which is required only if we run out of frames.\n",
    "    ret, frame = vc.read() \n",
    "    # Convert the image from color to grayscale\n",
    "    gray = cv2.cvtColor(frame, cv2.COLOR_BGR2GRAY)\n",
    "    # The '.detectMultiScale()' is a general function used to detect objects. \n",
    "    # Here, we use it with the face cascade to detect faces.\n",
    "    faces = faceCascade.detectMultiScale(\n",
    "        # A grayscale image.\n",
    "        gray,\n",
    "        # The size of faces varies depending on their distance from the camera.\n",
    "        # Faces nearer to the camera are bigger, and those further from the camera are smaller.\n",
    "        # We thus need to compensate for such instances.\n",
    "        scaleFactor=1.1,\n",
    "        # Declare how many objects are near the current one before a face is found.\n",
    "        minNeighbors=5,\n",
    "        # Give the minimum size of each window.\n",
    "        minSize=(30, 30),\n",
    "        # Scale the image for greater optimization.\n",
    "        flags=cv2.CASCADE_SCALE_IMAGE\n",
    "    )\n",
    "\n",
    "    # Draw a rectangle around the faces\n",
    "    for (x, y, w, h) in faces:\n",
    "        cv2.rectangle(frame, (x, y), (x+w, y+h), (0, 255, 0), 2)\n",
    "        # We draw a rectangle over the face.\n",
    "        # x and y are for the position.\n",
    "        # w and h are for the width and height.\n",
    "        # Add a label to the rectangle and display it.\n",
    "        label=\"Face detected!\"\n",
    "        cv2.putText(frame, label, (x, y-10),cv2.FONT_HERSHEY_SIMPLEX,0.8,(255,255,255),2)\n",
    "        \n",
    "    # Display the image in a window.\n",
    "    cv2.imshow(\"cam\", frame)\n",
    "    # Define the key that needs to be pressed to close the window.\n",
    "    # The 'cv2.waitKey(1)' function shows each frame for 1 millisecond, then closes automatically.\n",
    "    # Here, the program will wait for 'q' to be pressed. \n",
    "    # When 'q' is pressed, it breaks the infinite 'while' loop and exits the window.\n",
    "    if cv2.waitKey(1) & 0xFF == ord('q'):\n",
    "        break\n",
    "        \n",
    "\n",
    "# Release the web-cam\n",
    "vc.release()\n",
    "\n",
    "# Destroy the output window\n",
    "cv2.destroyAllWindows()"
   ]
  },
  {
   "cell_type": "code",
   "execution_count": null,
   "metadata": {},
   "outputs": [],
   "source": []
  }
 ],
 "metadata": {
  "kernelspec": {
   "display_name": "Python 3",
   "language": "python",
   "name": "python3"
  },
  "language_info": {
   "codemirror_mode": {
    "name": "ipython",
    "version": 3
   },
   "file_extension": ".py",
   "mimetype": "text/x-python",
   "name": "python",
   "nbconvert_exporter": "python",
   "pygments_lexer": "ipython3",
   "version": "3.7.6"
  }
 },
 "nbformat": 4,
 "nbformat_minor": 2
}
